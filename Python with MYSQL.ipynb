{
 "cells": [
  {
   "cell_type": "code",
   "execution_count": 1,
   "id": "c56a9f51-9fac-4895-9219-6f5c9b28e687",
   "metadata": {},
   "outputs": [
    {
     "name": "stdout",
     "output_type": "stream",
     "text": [
      "Defaulting to user installation because normal site-packages is not writeable\n",
      "Requirement already satisfied: mysql-connector-python in c:\\users\\b1910\\appdata\\roaming\\python\\python313\\site-packages (9.1.0)\n"
     ]
    },
    {
     "name": "stderr",
     "output_type": "stream",
     "text": [
      "\n",
      "[notice] A new release of pip is available: 24.2 -> 24.3.1\n",
      "[notice] To update, run: python.exe -m pip install --upgrade pip\n"
     ]
    }
   ],
   "source": [
    "!python -m pip install mysql-connector-python"
   ]
  },
  {
   "cell_type": "markdown",
   "id": "eb47a873-2e92-4207-bd7f-f6e3ec5f6f19",
   "metadata": {},
   "source": [
    "***Heading***"
   ]
  },
  {
   "cell_type": "code",
   "execution_count": null,
   "id": "914e42a7-3120-439c-8651-75ff13445aea",
   "metadata": {},
   "outputs": [],
   "source": []
  },
  {
   "cell_type": "code",
   "execution_count": 2,
   "id": "6b7681c1-db13-4b85-8a8b-b38c160f7a5e",
   "metadata": {},
   "outputs": [
    {
     "name": "stdout",
     "output_type": "stream",
     "text": [
      "Requirement already satisfied: notebook in c:\\users\\b1910\\appdata\\roaming\\python\\python313\\site-packages (7.3.2)\n",
      "Requirement already satisfied: jupyter-server<3,>=2.4.0 in c:\\users\\b1910\\appdata\\roaming\\python\\python313\\site-packages (from notebook) (2.15.0)\n",
      "Requirement already satisfied: jupyterlab-server<3,>=2.27.1 in c:\\users\\b1910\\appdata\\roaming\\python\\python313\\site-packages (from notebook) (2.27.3)\n",
      "Requirement already satisfied: jupyterlab<4.4,>=4.3.4 in c:\\users\\b1910\\appdata\\roaming\\python\\python313\\site-packages (from notebook) (4.3.4)\n",
      "Requirement already satisfied: notebook-shim<0.3,>=0.2 in c:\\users\\b1910\\appdata\\roaming\\python\\python313\\site-packages (from notebook) (0.2.4)\n",
      "Requirement already satisfied: tornado>=6.2.0 in c:\\users\\b1910\\appdata\\roaming\\python\\python313\\site-packages (from notebook) (6.4.2)\n",
      "Requirement already satisfied: anyio>=3.1.0 in c:\\users\\b1910\\appdata\\roaming\\python\\python313\\site-packages (from jupyter-server<3,>=2.4.0->notebook) (4.8.0)\n",
      "Requirement already satisfied: argon2-cffi>=21.1 in c:\\users\\b1910\\appdata\\roaming\\python\\python313\\site-packages (from jupyter-server<3,>=2.4.0->notebook) (23.1.0)\n",
      "Requirement already satisfied: jinja2>=3.0.3 in c:\\users\\b1910\\appdata\\roaming\\python\\python313\\site-packages (from jupyter-server<3,>=2.4.0->notebook) (3.1.5)\n",
      "Requirement already satisfied: jupyter-client>=7.4.4 in c:\\users\\b1910\\appdata\\roaming\\python\\python313\\site-packages (from jupyter-server<3,>=2.4.0->notebook) (8.6.3)\n",
      "Requirement already satisfied: jupyter-core!=5.0.*,>=4.12 in c:\\users\\b1910\\appdata\\roaming\\python\\python313\\site-packages (from jupyter-server<3,>=2.4.0->notebook) (5.7.2)\n",
      "Requirement already satisfied: jupyter-events>=0.11.0 in c:\\users\\b1910\\appdata\\roaming\\python\\python313\\site-packages (from jupyter-server<3,>=2.4.0->notebook) (0.11.0)\n",
      "Requirement already satisfied: jupyter-server-terminals>=0.4.4 in c:\\users\\b1910\\appdata\\roaming\\python\\python313\\site-packages (from jupyter-server<3,>=2.4.0->notebook) (0.5.3)\n",
      "Requirement already satisfied: nbconvert>=6.4.4 in c:\\users\\b1910\\appdata\\roaming\\python\\python313\\site-packages (from jupyter-server<3,>=2.4.0->notebook) (7.16.5)\n",
      "Requirement already satisfied: nbformat>=5.3.0 in c:\\users\\b1910\\appdata\\roaming\\python\\python313\\site-packages (from jupyter-server<3,>=2.4.0->notebook) (5.10.4)\n",
      "Requirement already satisfied: overrides>=5.0 in c:\\users\\b1910\\appdata\\roaming\\python\\python313\\site-packages (from jupyter-server<3,>=2.4.0->notebook) (7.7.0)\n",
      "Requirement already satisfied: packaging>=22.0 in c:\\users\\b1910\\appdata\\roaming\\python\\python313\\site-packages (from jupyter-server<3,>=2.4.0->notebook) (24.2)\n",
      "Requirement already satisfied: prometheus-client>=0.9 in c:\\users\\b1910\\appdata\\roaming\\python\\python313\\site-packages (from jupyter-server<3,>=2.4.0->notebook) (0.21.1)\n",
      "Requirement already satisfied: pywinpty>=2.0.1 in c:\\users\\b1910\\appdata\\roaming\\python\\python313\\site-packages (from jupyter-server<3,>=2.4.0->notebook) (2.0.14)\n",
      "Requirement already satisfied: pyzmq>=24 in c:\\users\\b1910\\appdata\\roaming\\python\\python313\\site-packages (from jupyter-server<3,>=2.4.0->notebook) (26.2.0)\n",
      "Requirement already satisfied: send2trash>=1.8.2 in c:\\users\\b1910\\appdata\\roaming\\python\\python313\\site-packages (from jupyter-server<3,>=2.4.0->notebook) (1.8.3)\n",
      "Requirement already satisfied: terminado>=0.8.3 in c:\\users\\b1910\\appdata\\roaming\\python\\python313\\site-packages (from jupyter-server<3,>=2.4.0->notebook) (0.18.1)\n",
      "Requirement already satisfied: traitlets>=5.6.0 in c:\\users\\b1910\\appdata\\roaming\\python\\python313\\site-packages (from jupyter-server<3,>=2.4.0->notebook) (5.14.3)\n",
      "Requirement already satisfied: websocket-client>=1.7 in c:\\users\\b1910\\appdata\\roaming\\python\\python313\\site-packages (from jupyter-server<3,>=2.4.0->notebook) (1.8.0)\n",
      "Requirement already satisfied: async-lru>=1.0.0 in c:\\users\\b1910\\appdata\\roaming\\python\\python313\\site-packages (from jupyterlab<4.4,>=4.3.4->notebook) (2.0.4)\n",
      "Requirement already satisfied: httpx>=0.25.0 in c:\\users\\b1910\\appdata\\roaming\\python\\python313\\site-packages (from jupyterlab<4.4,>=4.3.4->notebook) (0.28.1)\n",
      "Requirement already satisfied: ipykernel>=6.5.0 in c:\\users\\b1910\\appdata\\roaming\\python\\python313\\site-packages (from jupyterlab<4.4,>=4.3.4->notebook) (6.29.5)\n",
      "Requirement already satisfied: jupyter-lsp>=2.0.0 in c:\\users\\b1910\\appdata\\roaming\\python\\python313\\site-packages (from jupyterlab<4.4,>=4.3.4->notebook) (2.2.5)\n",
      "Requirement already satisfied: setuptools>=40.8.0 in c:\\users\\b1910\\appdata\\roaming\\python\\python313\\site-packages (from jupyterlab<4.4,>=4.3.4->notebook) (75.8.0)\n",
      "Requirement already satisfied: babel>=2.10 in c:\\users\\b1910\\appdata\\roaming\\python\\python313\\site-packages (from jupyterlab-server<3,>=2.27.1->notebook) (2.16.0)\n",
      "Requirement already satisfied: json5>=0.9.0 in c:\\users\\b1910\\appdata\\roaming\\python\\python313\\site-packages (from jupyterlab-server<3,>=2.27.1->notebook) (0.10.0)\n",
      "Requirement already satisfied: jsonschema>=4.18.0 in c:\\users\\b1910\\appdata\\roaming\\python\\python313\\site-packages (from jupyterlab-server<3,>=2.27.1->notebook) (4.23.0)\n",
      "Requirement already satisfied: requests>=2.31 in c:\\users\\b1910\\appdata\\roaming\\python\\python313\\site-packages (from jupyterlab-server<3,>=2.27.1->notebook) (2.32.3)\n",
      "Requirement already satisfied: idna>=2.8 in c:\\users\\b1910\\appdata\\roaming\\python\\python313\\site-packages (from anyio>=3.1.0->jupyter-server<3,>=2.4.0->notebook) (3.10)\n",
      "Requirement already satisfied: sniffio>=1.1 in c:\\users\\b1910\\appdata\\roaming\\python\\python313\\site-packages (from anyio>=3.1.0->jupyter-server<3,>=2.4.0->notebook) (1.3.1)\n",
      "Requirement already satisfied: argon2-cffi-bindings in c:\\users\\b1910\\appdata\\roaming\\python\\python313\\site-packages (from argon2-cffi>=21.1->jupyter-server<3,>=2.4.0->notebook) (21.2.0)\n",
      "Requirement already satisfied: certifi in c:\\users\\b1910\\appdata\\roaming\\python\\python313\\site-packages (from httpx>=0.25.0->jupyterlab<4.4,>=4.3.4->notebook) (2024.12.14)\n",
      "Requirement already satisfied: httpcore==1.* in c:\\users\\b1910\\appdata\\roaming\\python\\python313\\site-packages (from httpx>=0.25.0->jupyterlab<4.4,>=4.3.4->notebook) (1.0.7)\n",
      "Requirement already satisfied: h11<0.15,>=0.13 in c:\\users\\b1910\\appdata\\roaming\\python\\python313\\site-packages (from httpcore==1.*->httpx>=0.25.0->jupyterlab<4.4,>=4.3.4->notebook) (0.14.0)\n",
      "Requirement already satisfied: comm>=0.1.1 in c:\\users\\b1910\\appdata\\roaming\\python\\python313\\site-packages (from ipykernel>=6.5.0->jupyterlab<4.4,>=4.3.4->notebook) (0.2.2)\n",
      "Requirement already satisfied: debugpy>=1.6.5 in c:\\users\\b1910\\appdata\\roaming\\python\\python313\\site-packages (from ipykernel>=6.5.0->jupyterlab<4.4,>=4.3.4->notebook) (1.8.11)\n",
      "Requirement already satisfied: ipython>=7.23.1 in c:\\users\\b1910\\appdata\\roaming\\python\\python313\\site-packages (from ipykernel>=6.5.0->jupyterlab<4.4,>=4.3.4->notebook) (8.31.0)\n",
      "Requirement already satisfied: matplotlib-inline>=0.1 in c:\\users\\b1910\\appdata\\roaming\\python\\python313\\site-packages (from ipykernel>=6.5.0->jupyterlab<4.4,>=4.3.4->notebook) (0.1.7)\n",
      "Requirement already satisfied: nest-asyncio in c:\\users\\b1910\\appdata\\roaming\\python\\python313\\site-packages (from ipykernel>=6.5.0->jupyterlab<4.4,>=4.3.4->notebook) (1.6.0)\n",
      "Requirement already satisfied: psutil in c:\\users\\b1910\\appdata\\roaming\\python\\python313\\site-packages (from ipykernel>=6.5.0->jupyterlab<4.4,>=4.3.4->notebook) (6.1.1)\n",
      "Requirement already satisfied: MarkupSafe>=2.0 in c:\\users\\b1910\\appdata\\roaming\\python\\python313\\site-packages (from jinja2>=3.0.3->jupyter-server<3,>=2.4.0->notebook) (3.0.2)\n",
      "Requirement already satisfied: attrs>=22.2.0 in c:\\users\\b1910\\appdata\\roaming\\python\\python313\\site-packages (from jsonschema>=4.18.0->jupyterlab-server<3,>=2.27.1->notebook) (24.3.0)\n",
      "Requirement already satisfied: jsonschema-specifications>=2023.03.6 in c:\\users\\b1910\\appdata\\roaming\\python\\python313\\site-packages (from jsonschema>=4.18.0->jupyterlab-server<3,>=2.27.1->notebook) (2024.10.1)\n",
      "Requirement already satisfied: referencing>=0.28.4 in c:\\users\\b1910\\appdata\\roaming\\python\\python313\\site-packages (from jsonschema>=4.18.0->jupyterlab-server<3,>=2.27.1->notebook) (0.35.1)\n",
      "Requirement already satisfied: rpds-py>=0.7.1 in c:\\users\\b1910\\appdata\\roaming\\python\\python313\\site-packages (from jsonschema>=4.18.0->jupyterlab-server<3,>=2.27.1->notebook) (0.22.3)\n",
      "Requirement already satisfied: python-dateutil>=2.8.2 in c:\\users\\b1910\\appdata\\roaming\\python\\python313\\site-packages (from jupyter-client>=7.4.4->jupyter-server<3,>=2.4.0->notebook) (2.9.0.post0)\n",
      "Requirement already satisfied: platformdirs>=2.5 in c:\\users\\b1910\\appdata\\roaming\\python\\python313\\site-packages (from jupyter-core!=5.0.*,>=4.12->jupyter-server<3,>=2.4.0->notebook) (4.3.6)\n",
      "Requirement already satisfied: pywin32>=300 in c:\\users\\b1910\\appdata\\roaming\\python\\python313\\site-packages (from jupyter-core!=5.0.*,>=4.12->jupyter-server<3,>=2.4.0->notebook) (308)\n",
      "Requirement already satisfied: python-json-logger>=2.0.4 in c:\\users\\b1910\\appdata\\roaming\\python\\python313\\site-packages (from jupyter-events>=0.11.0->jupyter-server<3,>=2.4.0->notebook) (3.2.1)\n",
      "Requirement already satisfied: pyyaml>=5.3 in c:\\users\\b1910\\appdata\\roaming\\python\\python313\\site-packages (from jupyter-events>=0.11.0->jupyter-server<3,>=2.4.0->notebook) (6.0.2)\n",
      "Requirement already satisfied: rfc3339-validator in c:\\users\\b1910\\appdata\\roaming\\python\\python313\\site-packages (from jupyter-events>=0.11.0->jupyter-server<3,>=2.4.0->notebook) (0.1.4)\n",
      "Requirement already satisfied: rfc3986-validator>=0.1.1 in c:\\users\\b1910\\appdata\\roaming\\python\\python313\\site-packages (from jupyter-events>=0.11.0->jupyter-server<3,>=2.4.0->notebook) (0.1.1)\n",
      "Requirement already satisfied: beautifulsoup4 in c:\\users\\b1910\\appdata\\roaming\\python\\python313\\site-packages (from nbconvert>=6.4.4->jupyter-server<3,>=2.4.0->notebook) (4.12.3)\n",
      "Requirement already satisfied: bleach!=5.0.0 in c:\\users\\b1910\\appdata\\roaming\\python\\python313\\site-packages (from bleach[css]!=5.0.0->nbconvert>=6.4.4->jupyter-server<3,>=2.4.0->notebook) (6.2.0)\n",
      "Requirement already satisfied: defusedxml in c:\\users\\b1910\\appdata\\roaming\\python\\python313\\site-packages (from nbconvert>=6.4.4->jupyter-server<3,>=2.4.0->notebook) (0.7.1)\n",
      "Requirement already satisfied: jupyterlab-pygments in c:\\users\\b1910\\appdata\\roaming\\python\\python313\\site-packages (from nbconvert>=6.4.4->jupyter-server<3,>=2.4.0->notebook) (0.3.0)\n",
      "Requirement already satisfied: mistune<4,>=2.0.3 in c:\\users\\b1910\\appdata\\roaming\\python\\python313\\site-packages (from nbconvert>=6.4.4->jupyter-server<3,>=2.4.0->notebook) (3.1.0)\n",
      "Requirement already satisfied: nbclient>=0.5.0 in c:\\users\\b1910\\appdata\\roaming\\python\\python313\\site-packages (from nbconvert>=6.4.4->jupyter-server<3,>=2.4.0->notebook) (0.10.2)\n",
      "Requirement already satisfied: pandocfilters>=1.4.1 in c:\\users\\b1910\\appdata\\roaming\\python\\python313\\site-packages (from nbconvert>=6.4.4->jupyter-server<3,>=2.4.0->notebook) (1.5.1)\n",
      "Requirement already satisfied: pygments>=2.4.1 in c:\\users\\b1910\\appdata\\roaming\\python\\python313\\site-packages (from nbconvert>=6.4.4->jupyter-server<3,>=2.4.0->notebook) (2.19.1)\n",
      "Requirement already satisfied: fastjsonschema>=2.15 in c:\\users\\b1910\\appdata\\roaming\\python\\python313\\site-packages (from nbformat>=5.3.0->jupyter-server<3,>=2.4.0->notebook) (2.21.1)\n",
      "Requirement already satisfied: charset-normalizer<4,>=2 in c:\\users\\b1910\\appdata\\roaming\\python\\python313\\site-packages (from requests>=2.31->jupyterlab-server<3,>=2.27.1->notebook) (3.4.1)\n",
      "Requirement already satisfied: urllib3<3,>=1.21.1 in c:\\users\\b1910\\appdata\\roaming\\python\\python313\\site-packages (from requests>=2.31->jupyterlab-server<3,>=2.27.1->notebook) (2.3.0)\n",
      "Requirement already satisfied: webencodings in c:\\users\\b1910\\appdata\\roaming\\python\\python313\\site-packages (from bleach!=5.0.0->bleach[css]!=5.0.0->nbconvert>=6.4.4->jupyter-server<3,>=2.4.0->notebook) (0.5.1)\n",
      "Requirement already satisfied: tinycss2<1.5,>=1.1.0 in c:\\users\\b1910\\appdata\\roaming\\python\\python313\\site-packages (from bleach[css]!=5.0.0->nbconvert>=6.4.4->jupyter-server<3,>=2.4.0->notebook) (1.4.0)\n",
      "Requirement already satisfied: colorama in c:\\users\\b1910\\appdata\\roaming\\python\\python313\\site-packages (from ipython>=7.23.1->ipykernel>=6.5.0->jupyterlab<4.4,>=4.3.4->notebook) (0.4.6)\n",
      "Requirement already satisfied: decorator in c:\\users\\b1910\\appdata\\roaming\\python\\python313\\site-packages (from ipython>=7.23.1->ipykernel>=6.5.0->jupyterlab<4.4,>=4.3.4->notebook) (5.1.1)\n",
      "Requirement already satisfied: jedi>=0.16 in c:\\users\\b1910\\appdata\\roaming\\python\\python313\\site-packages (from ipython>=7.23.1->ipykernel>=6.5.0->jupyterlab<4.4,>=4.3.4->notebook) (0.19.2)\n",
      "Requirement already satisfied: prompt_toolkit<3.1.0,>=3.0.41 in c:\\users\\b1910\\appdata\\roaming\\python\\python313\\site-packages (from ipython>=7.23.1->ipykernel>=6.5.0->jupyterlab<4.4,>=4.3.4->notebook) (3.0.48)\n",
      "Requirement already satisfied: stack_data in c:\\users\\b1910\\appdata\\roaming\\python\\python313\\site-packages (from ipython>=7.23.1->ipykernel>=6.5.0->jupyterlab<4.4,>=4.3.4->notebook) (0.6.3)\n",
      "Requirement already satisfied: fqdn in c:\\users\\b1910\\appdata\\roaming\\python\\python313\\site-packages (from jsonschema[format-nongpl]>=4.18.0->jupyter-events>=0.11.0->jupyter-server<3,>=2.4.0->notebook) (1.5.1)\n",
      "Requirement already satisfied: isoduration in c:\\users\\b1910\\appdata\\roaming\\python\\python313\\site-packages (from jsonschema[format-nongpl]>=4.18.0->jupyter-events>=0.11.0->jupyter-server<3,>=2.4.0->notebook) (20.11.0)\n",
      "Requirement already satisfied: jsonpointer>1.13 in c:\\users\\b1910\\appdata\\roaming\\python\\python313\\site-packages (from jsonschema[format-nongpl]>=4.18.0->jupyter-events>=0.11.0->jupyter-server<3,>=2.4.0->notebook) (3.0.0)\n",
      "Requirement already satisfied: uri-template in c:\\users\\b1910\\appdata\\roaming\\python\\python313\\site-packages (from jsonschema[format-nongpl]>=4.18.0->jupyter-events>=0.11.0->jupyter-server<3,>=2.4.0->notebook) (1.3.0)\n",
      "Requirement already satisfied: webcolors>=24.6.0 in c:\\users\\b1910\\appdata\\roaming\\python\\python313\\site-packages (from jsonschema[format-nongpl]>=4.18.0->jupyter-events>=0.11.0->jupyter-server<3,>=2.4.0->notebook) (24.11.1)\n",
      "Requirement already satisfied: six>=1.5 in c:\\users\\b1910\\appdata\\roaming\\python\\python313\\site-packages (from python-dateutil>=2.8.2->jupyter-client>=7.4.4->jupyter-server<3,>=2.4.0->notebook) (1.16.0)\n",
      "Requirement already satisfied: cffi>=1.0.1 in c:\\users\\b1910\\appdata\\roaming\\python\\python313\\site-packages (from argon2-cffi-bindings->argon2-cffi>=21.1->jupyter-server<3,>=2.4.0->notebook) (1.17.1)\n",
      "Requirement already satisfied: soupsieve>1.2 in c:\\users\\b1910\\appdata\\roaming\\python\\python313\\site-packages (from beautifulsoup4->nbconvert>=6.4.4->jupyter-server<3,>=2.4.0->notebook) (2.6)\n",
      "Requirement already satisfied: pycparser in c:\\users\\b1910\\appdata\\roaming\\python\\python313\\site-packages (from cffi>=1.0.1->argon2-cffi-bindings->argon2-cffi>=21.1->jupyter-server<3,>=2.4.0->notebook) (2.22)\n",
      "Requirement already satisfied: parso<0.9.0,>=0.8.4 in c:\\users\\b1910\\appdata\\roaming\\python\\python313\\site-packages (from jedi>=0.16->ipython>=7.23.1->ipykernel>=6.5.0->jupyterlab<4.4,>=4.3.4->notebook) (0.8.4)\n",
      "Requirement already satisfied: wcwidth in c:\\users\\b1910\\appdata\\roaming\\python\\python313\\site-packages (from prompt_toolkit<3.1.0,>=3.0.41->ipython>=7.23.1->ipykernel>=6.5.0->jupyterlab<4.4,>=4.3.4->notebook) (0.2.13)\n",
      "Requirement already satisfied: arrow>=0.15.0 in c:\\users\\b1910\\appdata\\roaming\\python\\python313\\site-packages (from isoduration->jsonschema[format-nongpl]>=4.18.0->jupyter-events>=0.11.0->jupyter-server<3,>=2.4.0->notebook) (1.3.0)\n",
      "Requirement already satisfied: executing>=1.2.0 in c:\\users\\b1910\\appdata\\roaming\\python\\python313\\site-packages (from stack_data->ipython>=7.23.1->ipykernel>=6.5.0->jupyterlab<4.4,>=4.3.4->notebook) (2.1.0)\n",
      "Requirement already satisfied: asttokens>=2.1.0 in c:\\users\\b1910\\appdata\\roaming\\python\\python313\\site-packages (from stack_data->ipython>=7.23.1->ipykernel>=6.5.0->jupyterlab<4.4,>=4.3.4->notebook) (3.0.0)\n",
      "Requirement already satisfied: pure-eval in c:\\users\\b1910\\appdata\\roaming\\python\\python313\\site-packages (from stack_data->ipython>=7.23.1->ipykernel>=6.5.0->jupyterlab<4.4,>=4.3.4->notebook) (0.2.3)\n",
      "Requirement already satisfied: types-python-dateutil>=2.8.10 in c:\\users\\b1910\\appdata\\roaming\\python\\python313\\site-packages (from arrow>=0.15.0->isoduration->jsonschema[format-nongpl]>=4.18.0->jupyter-events>=0.11.0->jupyter-server<3,>=2.4.0->notebook) (2.9.0.20241206)\n",
      "Note: you may need to restart the kernel to use updated packages.\n"
     ]
    },
    {
     "name": "stderr",
     "output_type": "stream",
     "text": [
      "\n",
      "[notice] A new release of pip is available: 24.2 -> 24.3.1\n",
      "[notice] To update, run: python.exe -m pip install --upgrade pip\n"
     ]
    }
   ],
   "source": [
    "pip install notebook --user\n"
   ]
  },
  {
   "cell_type": "code",
   "execution_count": 3,
   "id": "76e58b9c-5527-4bb1-928b-072f60a4acbe",
   "metadata": {},
   "outputs": [
    {
     "name": "stdout",
     "output_type": "stream",
     "text": [
      "<mysql.connector.connection.MySQLConnection object at 0x000001596F88ABA0>\n"
     ]
    }
   ],
   "source": [
    "import mysql.connector\n",
    "\n",
    "new_db = mysql.connector.connect(\n",
    "    host = \"localhost\",\n",
    "    user = \"root\",\n",
    "    password = \"ADMIN@#444\"\n",
    ")\n",
    "\n",
    "print(new_db)"
   ]
  },
  {
   "cell_type": "code",
   "execution_count": 4,
   "id": "7f67b832-55a2-440c-aeef-b1a065f2b302",
   "metadata": {},
   "outputs": [],
   "source": [
    "import mysql.connector \n",
    "new_db = mysql.connector.connect(\n",
    "    host = \"localhost\",\n",
    "    user = \"root\",\n",
    "    password = \"ADMIN@#444\"\n",
    ")\n",
    "my_cursor = new_db.cursor()\n",
    "my_cursor.execute(\"CREATE DATABASE newdata\")"
   ]
  },
  {
   "cell_type": "code",
   "execution_count": 7,
   "id": "4b08e87d-e158-4fec-a65f-6d1c395912f4",
   "metadata": {},
   "outputs": [
    {
     "name": "stdout",
     "output_type": "stream",
     "text": [
      "('information_schema',)\n",
      "('mydb',)\n",
      "('mysql',)\n",
      "('newdata',)\n",
      "('performance_schema',)\n",
      "('sys',)\n"
     ]
    }
   ],
   "source": [
    "import mysql.connector \n",
    "new_db = mysql.connector.connect(\n",
    "    host = \"localhost\",\n",
    "    user = \"root\",\n",
    "    password = \"ADMIN@#444\"\n",
    ")\n",
    "my_cursor = new_db.cursor()\n",
    "my_cursor.execute(\"SHOW DATABASES\")\n",
    "for n in my_cursor:\n",
    "    print(n)"
   ]
  },
  {
   "cell_type": "markdown",
   "id": "3a069456-597f-4b36-bb9e-0968dfa341b6",
   "metadata": {},
   "source": [
    "# add database "
   ]
  },
  {
   "cell_type": "code",
   "execution_count": 9,
   "id": "e9d6e521-9ef0-408f-b374-b47470a9a4ff",
   "metadata": {},
   "outputs": [],
   "source": [
    "import mysql.connector \n",
    "new_db = mysql.connector.connect(\n",
    "    host = \"localhost\",\n",
    "    user = \"root\",\n",
    "    password = \"ADMIN@#444\",\n",
    "    database = \"newdata\"\n",
    ")\n"
   ]
  },
  {
   "cell_type": "markdown",
   "id": "9bb1436c-1fad-49b9-98c9-a2ae746d8bbe",
   "metadata": {},
   "source": [
    "# CREATE TABLE"
   ]
  },
  {
   "cell_type": "code",
   "execution_count": 12,
   "id": "e3cc2ffd-8aa6-42ee-8736-ba05dd6b0a6a",
   "metadata": {},
   "outputs": [],
   "source": [
    "import mysql.connector \n",
    "new_db = mysql.connector.connect(\n",
    "    host = \"localhost\",\n",
    "    user = \"root\",\n",
    "    password = \"ADMIN@#444\",\n",
    "    database = \"newdata\"\n",
    ")\n",
    "my_cursor = new_db.cursor()\n",
    "my_cursor.execute(\"CREATE TABLE students (name VARCHAR(255),code VARCHAR(255))\")"
   ]
  },
  {
   "cell_type": "code",
   "execution_count": 13,
   "id": "23815739-31af-418e-a6e8-8cdfcdf94422",
   "metadata": {},
   "outputs": [
    {
     "name": "stdout",
     "output_type": "stream",
     "text": [
      "('students',)\n"
     ]
    }
   ],
   "source": [
    "import mysql.connector \n",
    "new_db = mysql.connector.connect(\n",
    "    host = \"localhost\",\n",
    "    user = \"root\",\n",
    "    password = \"ADMIN@#444\",\n",
    "    database = \"newdata\"\n",
    ")\n",
    "my_cursor = new_db.cursor()\n",
    "my_cursor.execute(\"SHOW TABLES\")\n",
    "for x in my_cursor:\n",
    "    print(x)"
   ]
  },
  {
   "cell_type": "code",
   "execution_count": null,
   "id": "20764ebf-510c-4e1c-9546-5ec551358c65",
   "metadata": {},
   "outputs": [],
   "source": []
  }
 ],
 "metadata": {
  "kernelspec": {
   "display_name": "Python 3 (ipykernel)",
   "language": "python",
   "name": "python3"
  },
  "language_info": {
   "codemirror_mode": {
    "name": "ipython",
    "version": 3
   },
   "file_extension": ".py",
   "mimetype": "text/x-python",
   "name": "python",
   "nbconvert_exporter": "python",
   "pygments_lexer": "ipython3",
   "version": "3.13.0"
  }
 },
 "nbformat": 4,
 "nbformat_minor": 5
}
